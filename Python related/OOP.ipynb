{
 "cells": [
  {
   "cell_type": "markdown",
   "id": "liberal-virtue",
   "metadata": {},
   "source": [
    "# OOP\n",
    "This an OOP examples and simplification of its concepts to make it easy to review"
   ]
  },
  {
   "cell_type": "code",
   "execution_count": 38,
   "id": "valued-exposure",
   "metadata": {},
   "outputs": [],
   "source": [
    "class Customer:\n",
    "    def __init__ (self,membership,name):\n",
    "        self.name = name\n",
    "        self.membership = membership \n",
    "    def __str__(self):\n",
    "        print('String converter')\n",
    "        return self.name + ' ' + self.membership\n",
    "    \n",
    "    def update_membership(self, new_membership):\n",
    "        self.membership = new_membership\n",
    "        print(new_membership)\n",
    "        \n",
    "    def __eq__(self, other):\n",
    "        return self.name == other.name and self.membership == other.membership\n",
    "    __hash__ = None\n",
    "    __repr__ = __str__"
   ]
  },
  {
   "cell_type": "code",
   "execution_count": 34,
   "id": "outer-hello",
   "metadata": {},
   "outputs": [
    {
     "name": "stdout",
     "output_type": "stream",
     "text": [
      "1kyu\n"
     ]
    }
   ],
   "source": [
    "print(Customer('1kyu','Bob').membership)"
   ]
  },
  {
   "cell_type": "code",
   "execution_count": 35,
   "id": "technological-aurora",
   "metadata": {},
   "outputs": [
    {
     "name": "stdout",
     "output_type": "stream",
     "text": [
      "Silver\n",
      "Silver\n"
     ]
    }
   ],
   "source": [
    "c = Customer('Bronze','Hani')\n",
    "c.update_membership('Silver')\n",
    "print(c.membership)\n"
   ]
  },
  {
   "cell_type": "code",
   "execution_count": 36,
   "id": "opened-library",
   "metadata": {},
   "outputs": [
    {
     "name": "stdout",
     "output_type": "stream",
     "text": [
      "String converter\n",
      "Pav Titanium\n",
      "Paper\n"
     ]
    }
   ],
   "source": [
    "pav = Customer('Titanium','Pav')\n",
    "print(pav)\n",
    "pav.update_membership('Paper')"
   ]
  },
  {
   "cell_type": "code",
   "execution_count": 37,
   "id": "comparable-coast",
   "metadata": {},
   "outputs": [
    {
     "name": "stdout",
     "output_type": "stream",
     "text": [
      "True\n"
     ]
    }
   ],
   "source": [
    "print(pav == pav)"
   ]
  },
  {
   "cell_type": "markdown",
   "id": "improving-memory",
   "metadata": {},
   "source": [
    "## Encapsluation \n",
    "'Private Variables' that how I call it\n",
    "\n",
    "Briefly you make a setter method then some magic stuff happens for you in the background and then get a getter and that's it."
   ]
  },
  {
   "cell_type": "code",
   "execution_count": null,
   "id": "leading-airline",
   "metadata": {},
   "outputs": [],
   "source": []
  }
 ],
 "metadata": {
  "kernelspec": {
   "display_name": "Python 3",
   "language": "python",
   "name": "python3"
  },
  "language_info": {
   "codemirror_mode": {
    "name": "ipython",
    "version": 3
   },
   "file_extension": ".py",
   "mimetype": "text/x-python",
   "name": "python",
   "nbconvert_exporter": "python",
   "pygments_lexer": "ipython3",
   "version": "3.9.5"
  }
 },
 "nbformat": 4,
 "nbformat_minor": 5
}
